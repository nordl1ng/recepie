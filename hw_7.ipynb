{
 "cells": [
  {
   "cell_type": "markdown",
   "id": "48835417",
   "metadata": {},
   "source": [
    "* Задача1 \n",
    "Даны две независимые выборки. Не соблюдается условие нормальности\n",
    "x1 380,420, 290\n",
    "y1 140,360,200,900\n",
    "Т.к группы независимые и их две применяем критерий Манна-Уитни"
   ]
  },
  {
   "cell_type": "code",
   "execution_count": 2,
   "id": "9390cbe8",
   "metadata": {},
   "outputs": [
    {
     "data": {
      "text/plain": [
       "MannwhitneyuResult(statistic=8.0, pvalue=0.6285714285714286)"
      ]
     },
     "execution_count": 2,
     "metadata": {},
     "output_type": "execute_result"
    }
   ],
   "source": [
    "import numpy as np\n",
    "import scipy.stats as stats\n",
    "a = np.array([380, 420, 290])\n",
    "b = np.array([140,360,200,900])\n",
    "stats.mannwhitneyu(a,b)"
   ]
  },
  {
   "cell_type": "code",
   "execution_count": null,
   "id": "bc48ace0",
   "metadata": {},
   "outputs": [],
   "source": [
    "Т.к pvalue значительно больше 0.05 статистически значимых различий нет"
   ]
  },
  {
   "cell_type": "markdown",
   "id": "9ff748e4",
   "metadata": {},
   "source": [
    "* Задача 2\n",
    "Исследовалось влияние препарата на уровень давления пациентов. Сначала измерялось давление до приема препарата, потом через 10 минут и через 30 минут. Есть ли статистически значимые различия?\n",
    "1е измерение до приема препарата: 150, 160, 165, 145, 155\n",
    "2е измерение через 10 минут: 140, 155, 150, 130, 135\n",
    "3е измерение через 30 минут: 130, 130, 120, 130, 125\n",
    "Т.к проводим множественное сравнение повторных измерений применяйем критерий Фридмана"
   ]
  },
  {
   "cell_type": "code",
   "execution_count": 3,
   "id": "12bc6f1d",
   "metadata": {},
   "outputs": [
    {
     "data": {
      "text/plain": [
       "FriedmanchisquareResult(statistic=9.578947368421062, pvalue=0.00831683351100441)"
      ]
     },
     "execution_count": 3,
     "metadata": {},
     "output_type": "execute_result"
    }
   ],
   "source": [
    "measure_1 = np.array([150, 160, 165, 145, 155])\n",
    "measure_2 = np.array([140, 155, 150, 130, 135])\n",
    "measure_3 = np.array([130, 130, 120, 130, 125])\n",
    "stats.friedmanchisquare(measure_1, measure_2, measure_3)"
   ]
  },
  {
   "cell_type": "markdown",
   "id": "586856f3",
   "metadata": {},
   "source": [
    "* Вывод:\n",
    "Наблюдаются статистически значимые различия."
   ]
  },
  {
   "cell_type": "markdown",
   "id": "1cf2ab17",
   "metadata": {},
   "source": [
    "* Задача 3\n",
    "Сравните 1 и 2-е измерения, предполагая, что 3го измерения через 30 минут не было.\n",
    "Для двух зависимых групп применяем критерий Уилкоксона"
   ]
  },
  {
   "cell_type": "code",
   "execution_count": 11,
   "id": "7053aceb",
   "metadata": {},
   "outputs": [
    {
     "data": {
      "text/plain": [
       "WilcoxonResult(statistic=0.0, pvalue=0.0625)"
      ]
     },
     "execution_count": 11,
     "metadata": {},
     "output_type": "execute_result"
    }
   ],
   "source": [
    "measure_1 = np.array([150, 160, 165, 145, 155])\n",
    "measure_2 = np.array([140, 155, 150, 130, 135])\n",
    "stats.wilcoxon(measure_1, measure_2)"
   ]
  },
  {
   "cell_type": "markdown",
   "id": "81987f7b",
   "metadata": {},
   "source": [
    "* Вывод:\n",
    "Статистически значимых различий не наблюдается"
   ]
  },
  {
   "cell_type": "markdown",
   "id": "b3dd3346",
   "metadata": {},
   "source": [
    "* Задача 4\n",
    "Даны 3 группы учеников плавания.\n",
    "В 1 группе время на дистанцию 50 м составляют: 56, 60, 62, 55, 71, 67, 59, 58, 64, 67\n",
    "Вторая группа : 57, 58, 69, 48, 72, 70, 68, 71, 50, 53\n",
    "Третья группа: 57, 67, 49, 48, 47, 55, 66, 51, 54\n",
    "Для трех независимых групп применяем критерий Крускала-Уоллиса"
   ]
  },
  {
   "cell_type": "code",
   "execution_count": 12,
   "id": "a3c21082",
   "metadata": {},
   "outputs": [
    {
     "data": {
      "text/plain": [
       "KruskalResult(statistic=5.465564058257224, pvalue=0.0650380998590494)"
      ]
     },
     "execution_count": 12,
     "metadata": {},
     "output_type": "execute_result"
    }
   ],
   "source": [
    "group_1 = np.array([56, 60, 62, 55, 71, 67, 59, 58, 64, 67])\n",
    "group_2 = np.array([57, 58, 69, 48, 72, 70, 68, 71, 50, 53])\n",
    "group_3 = np.array([57, 67, 49, 48, 47, 55, 66, 51, 54])\n",
    "stats.kruskal(group_1, group_2, group_3)"
   ]
  },
  {
   "cell_type": "markdown",
   "id": "470b2567",
   "metadata": {},
   "source": [
    "* Вывод:\n",
    "Группы статистически похожи"
   ]
  },
  {
   "cell_type": "markdown",
   "id": "1c2c1539",
   "metadata": {},
   "source": [
    "* Задача 5\n",
    "Заявляется, что партия изготавливается со средним арифметическим 2,5 см. Проверить данную гипотезу, если известно, что размеры изделий подчинены нормальному закону распределения. Объем выборки 10, уровень статистической значимости 5%\n",
    "2.51, 2.35, 2.74, 2.56, 2.40, 2.36, 2.65, 2.7, 2.67, 2.34"
   ]
  }
 ],
 "metadata": {
  "kernelspec": {
   "display_name": "Python 3 (ipykernel)",
   "language": "python",
   "name": "python3"
  },
  "language_info": {
   "codemirror_mode": {
    "name": "ipython",
    "version": 3
   },
   "file_extension": ".py",
   "mimetype": "text/x-python",
   "name": "python",
   "nbconvert_exporter": "python",
   "pygments_lexer": "ipython3",
   "version": "3.9.12"
  }
 },
 "nbformat": 4,
 "nbformat_minor": 5
}
